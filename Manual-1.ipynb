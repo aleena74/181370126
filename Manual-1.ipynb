{
 "cells": [
  {
   "cell_type": "markdown",
   "id": "6855d2a5",
   "metadata": {},
   "source": [
    "Task1:\n",
    "Write a program that will ask the user to enter the amount of a purchase. The program should then\n",
    "compute the state and county sales tax. Assume the state sales tax is 5 percent and the county\n",
    "sales tax is 2.5 percent. The program should display the following: * The amount of the purchase\n",
    "* The state sales tax * The county sales tax * The total sales tax * and the total of the sale (which\n",
    "is the sum of the amount of purchase plus the total sales tax)."
   ]
  },
  {
   "cell_type": "code",
   "execution_count": 4,
   "id": "de87a7c5",
   "metadata": {},
   "outputs": [
    {
     "name": "stdout",
     "output_type": "stream",
     "text": [
      "Enter purchase amount:60\n",
      "Purchase amount : 60\n",
      "Sale Tax : 3.0\n",
      "County Tax 1.5\n",
      "Totale sale tax: 4.5\n",
      "Totale sale : 64.5\n"
     ]
    }
   ],
   "source": [
    "purchase_amount=int(input(\"Enter purchase amount:\"))\n",
    "sale_tax=purchase_amount*5/100\n",
    "county_tax=purchase_amount*2.5/100\n",
    "\n",
    "total_sale_tax=sale_tax + county_tax\n",
    "total_sale= total_sale_tax + purchase_amount\n",
    "\n",
    "print(\"Purchase amount :\", purchase_amount)\n",
    "print(\"Sale Tax :\"  ,sale_tax)\n",
    "print(\"County Tax\", county_tax)\n",
    "print(\"Totale sale tax:\", total_sale_tax)\n",
    "print(\"Totale sale :\", total_sale)"
   ]
  },
  {
   "cell_type": "markdown",
   "id": "ee3420fe",
   "metadata": {},
   "source": [
    "Task2:\n",
    "Write a program that calculates the total amount of a meal purchased at a restaurant. The program\n",
    "should ask the user to enter the charge for the food, and then calculate the amount of a 18 percent\n",
    "tip and 7 percent sales tax. Display each of these amounts and the total."
   ]
  },
  {
   "cell_type": "code",
   "execution_count": 5,
   "id": "dce72853",
   "metadata": {},
   "outputs": [
    {
     "name": "stdout",
     "output_type": "stream",
     "text": [
      "Enter the charge for food: 100\n",
      "Tip:  8.0\n",
      "sale_tax:  7.0\n",
      "Total :  15.0\n"
     ]
    }
   ],
   "source": [
    "charge = int(input('Enter the charge for food: '))\n",
    "Tip = charge * 8/100\n",
    "sale_tax = charge * 7/100\n",
    "Total= Tip + sale_tax\n",
    "\n",
    "print(\"Tip: \", Tip)\n",
    "print(\"sale_tax: \", sale_tax)\n",
    "print(\"Total : \", Total)\n"
   ]
  },
  {
   "cell_type": "markdown",
   "id": "f418ee75",
   "metadata": {},
   "source": [
    "Task3:\n",
    "    A cookie recipe calls for the following ingredients: * 1.5 cups of sugar * 1 cup of butter * 2.75 cups\n",
    "of flour\n",
    "\n",
    "9\n",
    "\n",
    "The recipe produces 48 cookies with this amount of the ingredients. Write a program that asks\n",
    "the user how many cookies he or she wants to make, and then displays the number of cups of each\n",
    "ingredient needed for the specified number of cookies."
   ]
  },
  {
   "cell_type": "code",
   "execution_count": 15,
   "id": "9ce768ba",
   "metadata": {},
   "outputs": [
    {
     "name": "stdout",
     "output_type": "stream",
     "text": [
      "How many cookies you want to make?50\n",
      "Total Cookies : 50\n",
      "Sugar required :  1.5625\n",
      " Butter required : 1.0416666666666667\n",
      "Flour required : 2.8645833333333335\n"
     ]
    }
   ],
   "source": [
    "number_of_cookies = int(input(\"How many cookies you want to make?\" ))\n",
    "cookies = 48\n",
    "sugar = 1.5\n",
    "butter = 1\n",
    "flour = 2.75\n",
    "  \n",
    "total_sugar  = (sugar * number_of_cookies) / cookies\n",
    "total_butter = (butter * number_of_cookies) / cookies\n",
    "total_flour  = (flour * number_of_cookies) / cookies  \n",
    "   \n",
    "print(\"Total Cookies :\", number_of_cookies)\n",
    "print(\"Sugar required : \", total_sugar)                             \n",
    "print(\" Butter required :\",total_butter)\n",
    "print(\"Flour required :\" , total_flour)                            \n",
    "                              \n"
   ]
  },
  {
   "cell_type": "markdown",
   "id": "b5ed04ea",
   "metadata": {},
   "source": [
    "Task4:\n",
    "    Write a program that asks the user for the number of males and the number of females registered\n",
    "in a class. The program should display the percentage of males and females in the class.\n",
    "Hint: Suppose there are 8 males and 12 females in a class. There are 20 students in the class. The\n",
    "percentage of males can be calculated as 8 4 20 5 0.4, or 40%. The percentage of females can be\n",
    "calculated as 12 4 20 5 0.6, or 60%."
   ]
  },
  {
   "cell_type": "code",
   "execution_count": 18,
   "id": "788c68f6",
   "metadata": {},
   "outputs": [
    {
     "name": "stdout",
     "output_type": "stream",
     "text": [
      "'Enter number of males: '10\n",
      "Enter number of females:20\n",
      "Weightage of male students : 33.33333333333333\n",
      "Weightage of female students : 66.66666666666666\n"
     ]
    }
   ],
   "source": [
    "Males = int(input(\"'Enter number of males: '\"))\n",
    "Females = int(input(\"Enter number of females:\"))\n",
    "\n",
    "Total_students = Males + Females\n",
    "\n",
    "M_weightage = Males/Total_students * 100\n",
    "F_weightage = Females/Total_students * 100\n",
    "\n",
    "print(\"Weightage of male students :\" , M_weightage)\n",
    "print(\"Weightage of female students :\" , F_weightage)"
   ]
  },
  {
   "cell_type": "markdown",
   "id": "58a372cc",
   "metadata": {},
   "source": [
    "Task5 :\n",
    "    Last month Joe purchased some stock in Acme Software, Inc. Here are the details of the purchase:\n",
    "* The number of shares that Joe purchased was 2,000. * When Joe purchased the stock, he paid\n",
    "'............................................ If this amount is positive, then Joe made a profit. If the amount is negative, then\n",
    "Joe lost money."
   ]
  },
  {
   "cell_type": "code",
   "execution_count": 33,
   "id": "0516cfb9",
   "metadata": {},
   "outputs": [
    {
     "name": "stdout",
     "output_type": "stream",
     "text": [
      "Money paid for the stock :  80000.0\n",
      "Commission paid to broker when bought the stock :  2400.0\n",
      "Amount for which Joe piad for stock : 85500.0\n",
      "Amount of commission paid to broker :  2565.0\n",
      "Total leftover : 80535.0\n"
     ]
    },
    {
     "data": {
      "text/plain": [
       "(None,)"
      ]
     },
     "execution_count": 33,
     "metadata": {},
     "output_type": "execute_result"
    }
   ],
   "source": [
    "share_purchased = 2000\n",
    "dollar_per_share = 40.00\n",
    "\n",
    "\n",
    "Commision = 0.03\n",
    "\n",
    "paid_amount = share_purchased * dollar_per_share\n",
    "\n",
    "print(\"Money paid for the stock : \",paid_amount )\n",
    "\n",
    "commission_paid_when_bought = paid_amount * Commision\n",
    "\n",
    "print(\"Commission paid to broker when bought the stock : \" , commission_paid_when_bought)\n",
    "\n",
    "shares_sold = 2000\n",
    "sold_stock_per_share = 42.75\n",
    "\n",
    "amount_stock_sold = shares_sold * sold_stock_per_share\n",
    "\n",
    "print(\"Amount for which Joe piad for stock :\", amount_stock_sold)\n",
    "\n",
    "commission_paid_sold = amount_stock_sold * Commision\n",
    "\n",
    "print(\"Amount of commission paid to broker : \" ,commission_paid_sold)\n",
    "\n",
    "total_amount_left = amount_stock_sold - \\\n",
    "(commission_paid_when_bought + \\\n",
    "                    commission_paid_sold)\n",
    "\n",
    "print(\"Total leftover :\", total_amount_left), \n",
    "    "
   ]
  },
  {
   "cell_type": "code",
   "execution_count": null,
   "id": "b489ce2a",
   "metadata": {},
   "outputs": [],
   "source": []
  }
 ],
 "metadata": {
  "kernelspec": {
   "display_name": "Python 3",
   "language": "python",
   "name": "python3"
  },
  "language_info": {
   "codemirror_mode": {
    "name": "ipython",
    "version": 3
   },
   "file_extension": ".py",
   "mimetype": "text/x-python",
   "name": "python",
   "nbconvert_exporter": "python",
   "pygments_lexer": "ipython3",
   "version": "3.8.8"
  }
 },
 "nbformat": 4,
 "nbformat_minor": 5
}
